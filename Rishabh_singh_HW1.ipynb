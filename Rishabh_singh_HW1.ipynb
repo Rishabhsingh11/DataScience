{
 "cells": [
  {
   "cell_type": "code",
   "execution_count": 1,
   "id": "cf667645",
   "metadata": {},
   "outputs": [],
   "source": [
    "import numpy as np\n",
    "import pandas as pd"
   ]
  },
  {
   "cell_type": "code",
   "execution_count": 93,
   "id": "cf734432",
   "metadata": {},
   "outputs": [
    {
     "name": "stdout",
     "output_type": "stream",
     "text": [
      "[[1 2 3]\n",
      " [4 5 6]]\n"
     ]
    }
   ],
   "source": [
    "#question 1.1\n",
    "x = [[1,2,3],[4,5,6]]\n",
    "print(np.array(x))"
   ]
  },
  {
   "cell_type": "code",
   "execution_count": 92,
   "id": "05866928",
   "metadata": {},
   "outputs": [
    {
     "name": "stdout",
     "output_type": "stream",
     "text": [
      "[[1 2]\n",
      " [3 4]\n",
      " [5 6]]\n"
     ]
    }
   ],
   "source": [
    "#question 1.2\n",
    "print(np.arange(1,7).reshape(3,2))"
   ]
  },
  {
   "cell_type": "code",
   "execution_count": 37,
   "id": "043d067b",
   "metadata": {},
   "outputs": [
    {
     "name": "stdout",
     "output_type": "stream",
     "text": [
      "[  2   4   6   8  10  12  14  16  18  20  22  24  26  28  30  32  34  36\n",
      "  38  40  42  44  46  48  50  52  54  56  58  60  62  64  66  68  70  72\n",
      "  74  76  78  80  82  84  86  88  90  92  94  96  98 100]\n",
      "Mean of array x is 51.0\n"
     ]
    }
   ],
   "source": [
    "#question 1.3\n",
    "x=np.arange(2,101,2)\n",
    "print(x)\n",
    "print(\"Mean of array x is\",x.mean())"
   ]
  },
  {
   "cell_type": "code",
   "execution_count": 6,
   "id": "2263cc7b",
   "metadata": {},
   "outputs": [
    {
     "name": "stdout",
     "output_type": "stream",
     "text": [
      "[[[0.93723264 0.3009185  0.19217467]\n",
      "  [0.25793411 0.32318728 0.80697274]\n",
      "  [0.30535796 0.88982551 0.39400508]]\n",
      "\n",
      " [[0.33308735 0.65801632 0.91004919]\n",
      "  [0.13921261 0.07016351 0.86666184]\n",
      "  [0.73383744 0.04945197 0.15705495]]\n",
      "\n",
      " [[0.47976483 0.34724887 0.13324979]\n",
      "  [0.29663523 0.20570783 0.61669942]\n",
      "  [0.37983348 0.1469244  0.40106437]]]\n",
      "The Minimum value is 0.049451971318661525\n",
      "The maximum value is 0.9372326404813552\n"
     ]
    }
   ],
   "source": [
    "#question 1.4\n",
    "x=np.random.random((3,3,3))\n",
    "print(x)\n",
    "print(\"The Minimum value is\",x.min())\n",
    "print(\"The maximum value is\",x.max())"
   ]
  },
  {
   "cell_type": "code",
   "execution_count": 91,
   "id": "9642452f",
   "metadata": {},
   "outputs": [
    {
     "name": "stdout",
     "output_type": "stream",
     "text": [
      "[[10 11 12 13]\n",
      " [14 15 16 17]\n",
      " [18 19 20 21]]\n"
     ]
    }
   ],
   "source": [
    "#question 1.5\n",
    "print(np.arange(10,22).reshape(3,4))"
   ]
  },
  {
   "cell_type": "code",
   "execution_count": 90,
   "id": "9d944ee9",
   "metadata": {},
   "outputs": [
    {
     "name": "stdout",
     "output_type": "stream",
     "text": [
      "35\n",
      "[ 5  8 11 14 17 20 23 26 29 32]\n"
     ]
    }
   ],
   "source": [
    "#question 1.6\n",
    "start=5\n",
    "step=3\n",
    "length=10\n",
    "end=(length*step)+start\n",
    "print(end)\n",
    "print(np.arange(start,end,step))"
   ]
  },
  {
   "cell_type": "code",
   "execution_count": 46,
   "id": "8590119f",
   "metadata": {},
   "outputs": [
    {
     "name": "stdout",
     "output_type": "stream",
     "text": [
      "[[8 1 1 7 9 9 3 6 7 2]\n",
      " [0 3 5 9 4 4 6 4 4 3]\n",
      " [4 4 8 4 3 7 5 5 0 1]\n",
      " [5 9 3 0 5 0 1 2 4 2]\n",
      " [0 3 2 0 7 5 9 0 2 7]\n",
      " [2 9 2 3 3 2 3 4 1 2]\n",
      " [9 1 4 6 8 2 3 0 0 6]\n",
      " [0 6 3 3 8 8 8 2 3 2]\n",
      " [0 8 8 3 8 2 8 4 3 0]\n",
      " [4 3 6 9 8 0 8 5 9 0]]\n",
      "Memory size of the array is 400\n"
     ]
    }
   ],
   "source": [
    "#question 1.7\n",
    "x=np.random.randint(10, size=(10, 10))\n",
    "print(x)\n",
    "memsize=x.itemsize*x.size\n",
    "print(\"Memory size of the array is\",memsize)"
   ]
  },
  {
   "cell_type": "code",
   "execution_count": 53,
   "id": "d0093145",
   "metadata": {},
   "outputs": [
    {
     "name": "stdout",
     "output_type": "stream",
     "text": [
      "array before change  [4 3 9 8 2 0 8 7 7 5]\n",
      "array after putting 5  [4 3 9 8 5 0 8 7 7 5]\n"
     ]
    }
   ],
   "source": [
    "#question 1.8\n",
    "x=np.random.randint(11,size=10)\n",
    "print(\"array before change \",x)\n",
    "x[4]=5\n",
    "print(\"array after putting 5 \",x)"
   ]
  },
  {
   "cell_type": "code",
   "execution_count": 89,
   "id": "c34e22ed",
   "metadata": {},
   "outputs": [],
   "source": [
    "#np.random.randint(1, [6],size=10)"
   ]
  },
  {
   "cell_type": "code",
   "execution_count": 55,
   "id": "20ce2f22",
   "metadata": {},
   "outputs": [
    {
     "name": "stdout",
     "output_type": "stream",
     "text": [
      "Orginal array [10 11 12 13 14 15 16 17 18 19 20 21 22 23 24 25 26 27 28 29 30 31 32 33\n",
      " 34 35 36 37 38 39 40 41 42 43 44 45 46 47 48 49]\n",
      "Reverse array [49 48 47 46 45 44 43 42 41 40 39 38 37 36 35 34 33 32 31 30 29 28 27 26\n",
      " 25 24 23 22 21 20 19 18 17 16 15 14 13 12 11 10]\n"
     ]
    }
   ],
   "source": [
    "#question 1.9\n",
    "x=np.arange(10,50)\n",
    "print(\"Orginal array\",x)\n",
    "a=np.arange(49,9,-1)\n",
    "print(\"Reverse array\",a)"
   ]
  },
  {
   "cell_type": "code",
   "execution_count": 8,
   "id": "d5d0351c",
   "metadata": {},
   "outputs": [
    {
     "name": "stdout",
     "output_type": "stream",
     "text": [
      "[[0.5488135  0.71518937]\n",
      " [0.60276338 0.54488318]\n",
      " [0.4236548  0.64589411]]\n"
     ]
    }
   ],
   "source": [
    "#question 1.10\n",
    "np.random.seed(0)\n",
    "print(np.random.uniform(0,1,size=((3,2))))"
   ]
  },
  {
   "cell_type": "code",
   "execution_count": 87,
   "id": "4fb5c3d4",
   "metadata": {},
   "outputs": [
    {
     "name": "stdout",
     "output_type": "stream",
     "text": [
      "[[0. 1. 2. 3. 4.]\n",
      " [0. 1. 2. 3. 4.]\n",
      " [0. 1. 2. 3. 4.]\n",
      " [0. 1. 2. 3. 4.]\n",
      " [0. 1. 2. 3. 4.]]\n"
     ]
    }
   ],
   "source": [
    "#question 1.11\n",
    "print(np.zeros((5,5))+ np.arange(5))"
   ]
  },
  {
   "cell_type": "code",
   "execution_count": 86,
   "id": "9982d682",
   "metadata": {},
   "outputs": [
    {
     "name": "stdout",
     "output_type": "stream",
     "text": [
      "[[1. 1. 1. 1. 1.]\n",
      " [1. 1. 1. 1. 1.]\n",
      " [1. 1. 1. 1. 1.]\n",
      " [1. 1. 1. 1. 1.]\n",
      " [1. 1. 1. 1. 1.]]\n",
      "[[0. 0. 0. 0. 0. 0. 0.]\n",
      " [0. 1. 1. 1. 1. 1. 0.]\n",
      " [0. 1. 1. 1. 1. 1. 0.]\n",
      " [0. 1. 1. 1. 1. 1. 0.]\n",
      " [0. 1. 1. 1. 1. 1. 0.]\n",
      " [0. 1. 1. 1. 1. 1. 0.]\n",
      " [0. 0. 0. 0. 0. 0. 0.]]\n"
     ]
    }
   ],
   "source": [
    "#question 1.12\n",
    "x =np.ones((5,5))\n",
    "print(x)\n",
    "print(np.pad(x,pad_width=1))"
   ]
  },
  {
   "cell_type": "code",
   "execution_count": 54,
   "id": "27f9c458",
   "metadata": {},
   "outputs": [
    {
     "name": "stdout",
     "output_type": "stream",
     "text": [
      "[[1 0 0 0 0]\n",
      " [0 2 0 0 0]\n",
      " [0 0 3 0 0]\n",
      " [0 0 0 4 0]\n",
      " [0 0 0 0 5]]\n",
      "[[0 0 0 0 0]\n",
      " [1 0 0 0 0]\n",
      " [0 2 0 0 0]\n",
      " [0 0 3 0 0]\n",
      " [0 0 0 4 0]]\n"
     ]
    }
   ],
   "source": [
    "#question 1.13\n",
    "x=np.diag([1,2,3,4,5])\n",
    "print(x)\n",
    "y=np.diag(x)\n",
    "z=np.diag(y,k=-1)\n",
    "a,b=np.hsplit(z,[5])\n",
    "d,e=np.vsplit(a,[5])\n",
    "print(d)"
   ]
  },
  {
   "cell_type": "code",
   "execution_count": 85,
   "id": "06747e65",
   "metadata": {},
   "outputs": [
    {
     "name": "stdout",
     "output_type": "stream",
     "text": [
      "[[1. 1. 1. 1. 1. 1. 1. 1. 1. 1.]\n",
      " [1. 1. 1. 1. 1. 1. 1. 1. 1. 1.]\n",
      " [1. 1. 1. 1. 1. 1. 1. 1. 1. 1.]\n",
      " [1. 1. 1. 1. 1. 1. 1. 1. 1. 1.]\n",
      " [1. 1. 1. 1. 1. 1. 1. 1. 1. 1.]\n",
      " [1. 1. 1. 1. 1. 1. 1. 1. 1. 1.]\n",
      " [1. 1. 1. 1. 1. 1. 1. 1. 1. 1.]\n",
      " [1. 1. 1. 1. 1. 1. 1. 1. 1. 1.]\n",
      " [1. 1. 1. 1. 1. 1. 1. 1. 1. 1.]\n",
      " [1. 1. 1. 1. 1. 1. 1. 1. 1. 1.]]\n",
      "[[1. 1. 1. 1. 1. 1. 1. 1. 1. 1.]\n",
      " [1. 0. 0. 0. 0. 0. 0. 0. 0. 1.]\n",
      " [1. 0. 0. 0. 0. 0. 0. 0. 0. 1.]\n",
      " [1. 0. 0. 0. 0. 0. 0. 0. 0. 1.]\n",
      " [1. 0. 0. 0. 0. 0. 0. 0. 0. 1.]\n",
      " [1. 0. 0. 0. 0. 0. 0. 0. 0. 1.]\n",
      " [1. 0. 0. 0. 0. 0. 0. 0. 0. 1.]\n",
      " [1. 0. 0. 0. 0. 0. 0. 0. 0. 1.]\n",
      " [1. 0. 0. 0. 0. 0. 0. 0. 0. 1.]\n",
      " [1. 1. 1. 1. 1. 1. 1. 1. 1. 1.]]\n"
     ]
    }
   ],
   "source": [
    "#question 1.14\n",
    "x =np.ones((10,10))\n",
    "print(x)\n",
    "x=x-1\n",
    "a,b,c=np.hsplit(x,[1,9])\n",
    "p,q,r=np.vsplit(b,[1,9])\n",
    "print(np.pad(q,pad_width=1,constant_values=1))"
   ]
  },
  {
   "cell_type": "code",
   "execution_count": 57,
   "id": "85e9b6ca",
   "metadata": {},
   "outputs": [],
   "source": [
    "#x=np.ones((10,10))\n",
    "#x[1:-1,1:-1]=0\n",
    "#x"
   ]
  },
  {
   "cell_type": "code",
   "execution_count": 58,
   "id": "e31f735b",
   "metadata": {},
   "outputs": [
    {
     "name": "stdout",
     "output_type": "stream",
     "text": [
      "[10.97627008 14.30378733 12.05526752 10.89766366  8.47309599 12.91788226\n",
      "  8.75174423 17.83546002 19.27325521  7.66883038 15.83450076 10.5778984\n",
      " 11.36089122 18.51193277  1.42072116  1.74258599  0.40436795 16.65239691\n",
      " 15.56313502 17.40024296]\n",
      "Using method 1: [10 14 12 10  8 12  8 17 19  7 15 10 11 18  1  1  0 16 15 17] int32\n",
      "Using method 2: [10 14 12 10  8 12  8 17 19  7 15 10 11 18  1  1  0 16 15 17] int32\n"
     ]
    }
   ],
   "source": [
    "#question 1.15\n",
    "np.random.seed(0)\n",
    "x=np.random.uniform(0,20,20)\n",
    "print(x)\n",
    "a=x.astype(int)\n",
    "print(\"Using method 1:\",a,a.dtype)\n",
    "b=np.int_(x)\n",
    "print(\"Using method 2:\",b,b.dtype)"
   ]
  },
  {
   "cell_type": "code",
   "execution_count": 62,
   "id": "d060fbc3",
   "metadata": {},
   "outputs": [
    {
     "name": "stdout",
     "output_type": "stream",
     "text": [
      "fifth repetition of 1 is: 8\n"
     ]
    }
   ],
   "source": [
    "#question 2.1\n",
    "x=np.array([1, 2, 1, 1, 3, 4, 3, 1, 1, 2, 1, 1, 2])\n",
    "a=np.where(x==1)\n",
    "c=0\n",
    "for i in a[0]:\n",
    "    c=c+1\n",
    "    if(c==5):\n",
    "        print(\"fifth repetition of 1 is:\",i)\n"
   ]
  },
  {
   "cell_type": "code",
   "execution_count": 65,
   "id": "498b6f32",
   "metadata": {},
   "outputs": [
    {
     "name": "stdout",
     "output_type": "stream",
     "text": [
      "First subarray of 4 size: [1 2 3 4]\n",
      "second subarray of 2 size: [5 6]\n",
      "third subarray of 3 size: [7 8 9]\n"
     ]
    }
   ],
   "source": [
    "#question2.2\n",
    "x=np.arange(1,10)\n",
    "a,b,c=np.split(x,[4,6])\n",
    "print(\"First subarray of 4 size:\",a)\n",
    "print(\"second subarray of 2 size:\",b)\n",
    "print(\"third subarray of 3 size:\",c)"
   ]
  },
  {
   "cell_type": "code",
   "execution_count": 67,
   "id": "7fff2a43",
   "metadata": {},
   "outputs": [
    {
     "name": "stdout",
     "output_type": "stream",
     "text": [
      "[[ 0.  1.  2.  3.]\n",
      " [ 4.  5.  6.  7.]\n",
      " [ 8.  9. 10. 11.]\n",
      " [12. 13. 14. 15.]]\n",
      "Left half:\n",
      "[[ 0  1]\n",
      " [ 4  5]\n",
      " [ 8  9]\n",
      " [12 13]]\n",
      "Right half:\n",
      "[[ 2  3]\n",
      " [ 6  7]\n",
      " [10 11]\n",
      " [14 15]]\n"
     ]
    }
   ],
   "source": [
    "#question2.3\n",
    "x = np.arange(16.).reshape((4,4))\n",
    "print(x)\n",
    "a,b=np.split(x,[2],axis=1)\n",
    "print(\"Left half:\")\n",
    "print(a.astype(int))\n",
    "print(\"Right half:\")\n",
    "print(b.astype(int))"
   ]
  },
  {
   "cell_type": "code",
   "execution_count": 70,
   "id": "e1cfb5b7",
   "metadata": {},
   "outputs": [
    {
     "name": "stdout",
     "output_type": "stream",
     "text": [
      "[[ 5 10 15]\n",
      " [20 25 30]\n",
      " [35 40 45]]\n",
      "Print subarray 1:\n",
      "[[10 15]\n",
      " [25 30]]\n",
      "Print subarray 2: [[20]]\n"
     ]
    }
   ],
   "source": [
    "#question 2.4\n",
    "x = np.array([[5,10,15],\n",
    "\n",
    " [20,25,30],\n",
    "\n",
    " [35,40,45]]\n",
    ")\n",
    "print(x)\n",
    "a,b=np.hsplit(x,[1])\n",
    "c,d=np.vsplit(b,[2])\n",
    "print(\"Print subarray 1:\")\n",
    "print(c)\n",
    "p,q,r=np.vsplit(a,[1,2])\n",
    "print(\"Print subarray 2:\",q)"
   ]
  },
  {
   "cell_type": "code",
   "execution_count": 84,
   "id": "274155ae",
   "metadata": {},
   "outputs": [
    {
     "name": "stdout",
     "output_type": "stream",
     "text": [
      "[[1 2 3]\n",
      " [4 5 6]]\n",
      "[[ 7  8  9]\n",
      " [10 11 12]]\n",
      "[[ 1  2  3  7  8  9]\n",
      " [ 4  5  6 10 11 12]]\n"
     ]
    }
   ],
   "source": [
    "#question 2.5\n",
    "x = np.array([[ 1,2,3],[ 4,5,6]])\n",
    "print(x)\n",
    "y = np.array([[ 7,8,9],[10,11,12]])\n",
    "print(y)\n",
    "print(np.concatenate([x,y],axis=1))"
   ]
  },
  {
   "cell_type": "code",
   "execution_count": 72,
   "id": "d3a26b06",
   "metadata": {},
   "outputs": [
    {
     "name": "stdout",
     "output_type": "stream",
     "text": [
      "[[ 5  0  3]\n",
      " [ 3  7  9]\n",
      " [ 3  5  2]\n",
      " [ 4  7  6]\n",
      " [ 8  8 10]]\n",
      "The min/max of row [5 0 3] 0.0\n",
      "The min/max of row [3 7 9] 0.3333333333333333\n",
      "The min/max of row [3 5 2] 0.4\n",
      "The min/max of row [4 7 6] 0.5714285714285714\n",
      "The min/max of row [ 8  8 10] 0.8\n"
     ]
    }
   ],
   "source": [
    "#question 2.6\n",
    "np.random.seed(0)\n",
    "arr=np.random.randint(11,size=(5,3))\n",
    "print(arr)\n",
    "i=0\n",
    "for i in arr:\n",
    "    a,arr=np.vsplit(arr,[1])\n",
    "    print(\"The min/max of row\",i,np.min(a)/np.max(a))\n",
    "    i=i+1"
   ]
  },
  {
   "cell_type": "code",
   "execution_count": 69,
   "id": "f49f044d",
   "metadata": {},
   "outputs": [
    {
     "name": "stdout",
     "output_type": "stream",
     "text": [
      "before normalization:\n",
      "[[0.78364425 0.5000263  0.05037006 0.69909807 0.9923964 ]\n",
      " [0.26726254 0.67909062 0.86428144 0.75084425 0.96448977]\n",
      " [0.55424244 0.2123905  0.22244322 0.21874937 0.56957353]\n",
      " [0.45210904 0.97023668 0.68054469 0.08529557 0.05641833]\n",
      " [0.4878377  0.88100456 0.97640439 0.61765792 0.54249878]]\n",
      "after normalization\n",
      "[[0.77840094 0.47732873 0.         0.68865167 1.        ]\n",
      " [0.23024036 0.66741293 0.86400066 0.74358238 0.97037595]\n",
      " [0.53488141 0.17199141 0.1826628  0.17874162 0.55115601]\n",
      " [0.42646257 0.97647654 0.66895649 0.03707488 0.0064205 ]\n",
      " [0.46439004 0.88175295 0.98302382 0.60219957 0.52241503]]\n"
     ]
    }
   ],
   "source": [
    "#question2.7\n",
    "x=np.random.random((5,5))\n",
    "print(\"before normalization:\")\n",
    "print(x)\n",
    "maxi,mini=x.max(),x.min()\n",
    "x=(x-mini)/(maxi-mini)\n",
    "print(\"after normalization\")\n",
    "print(x)"
   ]
  },
  {
   "cell_type": "code",
   "execution_count": 83,
   "id": "c07d11f1",
   "metadata": {},
   "outputs": [
    {
     "name": "stdout",
     "output_type": "stream",
     "text": [
      "arr 1: [0 1 2]\n",
      "arr 2: [3 4 5 6]\n",
      "arr 3: [7 8]\n",
      "[0 1 2 3 4 5 6 7 8]\n"
     ]
    }
   ],
   "source": [
    "#question2.8\n",
    "x=np.arange(3)\n",
    "print(\"arr 1:\",x)\n",
    "y=np.arange(3,7)\n",
    "print(\"arr 2:\",y)\n",
    "z=np.arange(7,9)\n",
    "print(\"arr 3:\",z)\n",
    "print(np.concatenate([x,y,z]))"
   ]
  },
  {
   "cell_type": "code",
   "execution_count": 76,
   "id": "a95b56c8",
   "metadata": {},
   "outputs": [
    {
     "name": "stdout",
     "output_type": "stream",
     "text": [
      "[44 47 64 67 67  9 83 21 36 87 70 88 88 12 58 65 39 87 46 88]\n",
      "Values between 15 and 55 is:\n",
      "44\n",
      "47\n",
      "21\n",
      "36\n",
      "39\n",
      "46\n"
     ]
    }
   ],
   "source": [
    "#question2.9\n",
    "np.random.seed(0)\n",
    "x=np.random.randint(0,100,size=20)\n",
    "print(x)\n",
    "print(\"Values between 15 and 55 is:\")\n",
    "for i in range(x.size):\n",
    "    if(x[i]>=15 and x[i]<=55):\n",
    "        print(x[i])"
   ]
  },
  {
   "cell_type": "code",
   "execution_count": 78,
   "id": "c24387ae",
   "metadata": {},
   "outputs": [
    {
     "name": "stdout",
     "output_type": "stream",
     "text": [
      "[1 2 3 2 3 4 3 4 5 6]\n",
      "[ 7  2 10  2  7  4  9  4  9  8]\n",
      "Position where a and b match are :\n",
      "[1 3 5 7]\n"
     ]
    }
   ],
   "source": [
    "#question2.10\n",
    "a = np.array([1,2,3,2,3,4,3,4,5,6])\n",
    "print(a)\n",
    "b = np.array([7,2,10,2,7,4,9,4,9,8])\n",
    "print(b)\n",
    "c=np.where(a==b)\n",
    "print(\"Position where a and b match are :\")\n",
    "print(c[0])"
   ]
  },
  {
   "cell_type": "code",
   "execution_count": 81,
   "id": "55bde70a",
   "metadata": {},
   "outputs": [
    {
     "name": "stdout",
     "output_type": "stream",
     "text": [
      "Original array [ 0  1  2  3  4  5  6  7  8  9 10 11 12 13 14 15 16 17 18 19]\n",
      "After replacing odd index values with 1\n",
      "[ 0 -1  2 -1  4 -1  6 -1  8 -1 10 -1 12 -1 14 -1 16 -1 18 -1]\n"
     ]
    }
   ],
   "source": [
    "#question2.11\n",
    "x=np.arange(20)\n",
    "print(\"Original array\",x)\n",
    "for i in range(x.size):\n",
    "    if (x[i]%2!=0):\n",
    "        x[i]=-1\n",
    "print(\"After replacing odd index values with 1\")\n",
    "print(x)"
   ]
  },
  {
   "cell_type": "code",
   "execution_count": 82,
   "id": "144f7459",
   "metadata": {},
   "outputs": [
    {
     "name": "stdout",
     "output_type": "stream",
     "text": [
      "sum along last two axis is \n",
      "[[49 47 45 64]\n",
      " [54 49 31 49]\n",
      " [45 47 50 68]]\n"
     ]
    }
   ],
   "source": [
    "#question 2.12\n",
    "x=np.random.randint(10,size=((3,4,3,4)))\n",
    "print(\"sum along last two axis is \")\n",
    "print(x.sum(axis=3).sum(axis=2))"
   ]
  },
  {
   "cell_type": "code",
   "execution_count": 18,
   "id": "054fc2e1",
   "metadata": {},
   "outputs": [],
   "source": [
    "np.concatenate?"
   ]
  },
  {
   "cell_type": "code",
   "execution_count": 17,
   "id": "648fa0cb",
   "metadata": {},
   "outputs": [
    {
     "name": "stdout",
     "output_type": "stream",
     "text": [
      "[[ 0  1  2  3  4]\n",
      " [ 5  6  7  8  9]\n",
      " [10 11 12 13 14]\n",
      " [15 16 17 18 19]]\n"
     ]
    },
    {
     "data": {
      "text/plain": [
       "[array([[ 0,  1],\n",
       "        [ 5,  6],\n",
       "        [10, 11],\n",
       "        [15, 16]]),\n",
       " array([[ 2,  3],\n",
       "        [ 7,  8],\n",
       "        [12, 13],\n",
       "        [17, 18]]),\n",
       " array([[ 4],\n",
       "        [ 9],\n",
       "        [14],\n",
       "        [19]])]"
      ]
     },
     "execution_count": 17,
     "metadata": {},
     "output_type": "execute_result"
    }
   ],
   "source": [
    "x = np.arange(20).reshape(4,5)\n",
    "print(x)\n",
    "np.hsplit(x,[2,4])"
   ]
  },
  {
   "cell_type": "code",
   "execution_count": 26,
   "id": "de50d973",
   "metadata": {},
   "outputs": [
    {
     "ename": "TypeError",
     "evalue": "only integer scalar arrays can be converted to a scalar index",
     "output_type": "error",
     "traceback": [
      "\u001b[1;31m---------------------------------------------------------------------------\u001b[0m",
      "\u001b[1;31mTypeError\u001b[0m                                 Traceback (most recent call last)",
      "Input \u001b[1;32mIn [26]\u001b[0m, in \u001b[0;36m<cell line: 3>\u001b[1;34m()\u001b[0m\n\u001b[0;32m      1\u001b[0m a\u001b[38;5;241m=\u001b[39m np\u001b[38;5;241m.\u001b[39marange(\u001b[38;5;241m0\u001b[39m,\u001b[38;5;241m10\u001b[39m)\n\u001b[0;32m      2\u001b[0m b\u001b[38;5;241m=\u001b[39mnp\u001b[38;5;241m.\u001b[39marange(\u001b[38;5;241m11\u001b[39m,\u001b[38;5;241m21\u001b[39m)\n\u001b[1;32m----> 3\u001b[0m \u001b[43mnp\u001b[49m\u001b[38;5;241;43m.\u001b[39;49m\u001b[43msum\u001b[49m\u001b[43m(\u001b[49m\u001b[43ma\u001b[49m\u001b[43m,\u001b[49m\u001b[43mb\u001b[49m\u001b[43m)\u001b[49m\n",
      "File \u001b[1;32m<__array_function__ internals>:5\u001b[0m, in \u001b[0;36msum\u001b[1;34m(*args, **kwargs)\u001b[0m\n",
      "File \u001b[1;32m~\\anaconda3\\lib\\site-packages\\numpy\\core\\fromnumeric.py:2259\u001b[0m, in \u001b[0;36msum\u001b[1;34m(a, axis, dtype, out, keepdims, initial, where)\u001b[0m\n\u001b[0;32m   2256\u001b[0m         \u001b[38;5;28;01mreturn\u001b[39;00m out\n\u001b[0;32m   2257\u001b[0m     \u001b[38;5;28;01mreturn\u001b[39;00m res\n\u001b[1;32m-> 2259\u001b[0m \u001b[38;5;28;01mreturn\u001b[39;00m \u001b[43m_wrapreduction\u001b[49m\u001b[43m(\u001b[49m\u001b[43ma\u001b[49m\u001b[43m,\u001b[49m\u001b[43m \u001b[49m\u001b[43mnp\u001b[49m\u001b[38;5;241;43m.\u001b[39;49m\u001b[43madd\u001b[49m\u001b[43m,\u001b[49m\u001b[43m \u001b[49m\u001b[38;5;124;43m'\u001b[39;49m\u001b[38;5;124;43msum\u001b[39;49m\u001b[38;5;124;43m'\u001b[39;49m\u001b[43m,\u001b[49m\u001b[43m \u001b[49m\u001b[43maxis\u001b[49m\u001b[43m,\u001b[49m\u001b[43m \u001b[49m\u001b[43mdtype\u001b[49m\u001b[43m,\u001b[49m\u001b[43m \u001b[49m\u001b[43mout\u001b[49m\u001b[43m,\u001b[49m\u001b[43m \u001b[49m\u001b[43mkeepdims\u001b[49m\u001b[38;5;241;43m=\u001b[39;49m\u001b[43mkeepdims\u001b[49m\u001b[43m,\u001b[49m\n\u001b[0;32m   2260\u001b[0m \u001b[43m                      \u001b[49m\u001b[43minitial\u001b[49m\u001b[38;5;241;43m=\u001b[39;49m\u001b[43minitial\u001b[49m\u001b[43m,\u001b[49m\u001b[43m \u001b[49m\u001b[43mwhere\u001b[49m\u001b[38;5;241;43m=\u001b[39;49m\u001b[43mwhere\u001b[49m\u001b[43m)\u001b[49m\n",
      "File \u001b[1;32m~\\anaconda3\\lib\\site-packages\\numpy\\core\\fromnumeric.py:86\u001b[0m, in \u001b[0;36m_wrapreduction\u001b[1;34m(obj, ufunc, method, axis, dtype, out, **kwargs)\u001b[0m\n\u001b[0;32m     83\u001b[0m         \u001b[38;5;28;01melse\u001b[39;00m:\n\u001b[0;32m     84\u001b[0m             \u001b[38;5;28;01mreturn\u001b[39;00m reduction(axis\u001b[38;5;241m=\u001b[39maxis, out\u001b[38;5;241m=\u001b[39mout, \u001b[38;5;241m*\u001b[39m\u001b[38;5;241m*\u001b[39mpasskwargs)\n\u001b[1;32m---> 86\u001b[0m \u001b[38;5;28;01mreturn\u001b[39;00m ufunc\u001b[38;5;241m.\u001b[39mreduce(obj, axis, dtype, out, \u001b[38;5;241m*\u001b[39m\u001b[38;5;241m*\u001b[39mpasskwargs)\n",
      "\u001b[1;31mTypeError\u001b[0m: only integer scalar arrays can be converted to a scalar index"
     ]
    }
   ],
   "source": [
    "a= np.arange(0,10)\n",
    "b=np.arange(11,21)\n",
    "np.sum(a,b)"
   ]
  },
  {
   "cell_type": "code",
   "execution_count": 29,
   "id": "ce15bc2a",
   "metadata": {},
   "outputs": [],
   "source": [
    "np.linspace?"
   ]
  },
  {
   "cell_type": "code",
   "execution_count": null,
   "id": "ad5a14a3",
   "metadata": {},
   "outputs": [],
   "source": []
  }
 ],
 "metadata": {
  "kernelspec": {
   "display_name": "Python 3 (ipykernel)",
   "language": "python",
   "name": "python3"
  },
  "language_info": {
   "codemirror_mode": {
    "name": "ipython",
    "version": 3
   },
   "file_extension": ".py",
   "mimetype": "text/x-python",
   "name": "python",
   "nbconvert_exporter": "python",
   "pygments_lexer": "ipython3",
   "version": "3.9.12"
  }
 },
 "nbformat": 4,
 "nbformat_minor": 5
}
